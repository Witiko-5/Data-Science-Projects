{
 "cells": [
  {
   "cell_type": "code",
   "execution_count": 4,
   "id": "287eae73",
   "metadata": {},
   "outputs": [
    {
     "data": {
      "text/html": [
       "<div>\n",
       "<style scoped>\n",
       "    .dataframe tbody tr th:only-of-type {\n",
       "        vertical-align: middle;\n",
       "    }\n",
       "\n",
       "    .dataframe tbody tr th {\n",
       "        vertical-align: top;\n",
       "    }\n",
       "\n",
       "    .dataframe thead th {\n",
       "        text-align: right;\n",
       "    }\n",
       "</style>\n",
       "<table border=\"1\" class=\"dataframe\">\n",
       "  <thead>\n",
       "    <tr style=\"text-align: right;\">\n",
       "      <th></th>\n",
       "      <th>Type</th>\n",
       "      <th>Country Code</th>\n",
       "      <th>Series Code</th>\n",
       "      <th>Description</th>\n",
       "    </tr>\n",
       "  </thead>\n",
       "  <tbody>\n",
       "    <tr>\n",
       "      <th>0</th>\n",
       "      <td>Country-Series</td>\n",
       "      <td>Afghanistan (AFG)</td>\n",
       "      <td>Foreign direct investment, net inflows in repo...</td>\n",
       "      <td>Data on Foreign Direct Investment are based on...</td>\n",
       "    </tr>\n",
       "    <tr>\n",
       "      <th>1</th>\n",
       "      <td>Country-Series</td>\n",
       "      <td>Afghanistan (AFG)</td>\n",
       "      <td>External debt stocks, total (DOD, current US$)...</td>\n",
       "      <td>Long-term public and publicly guaranteed, long...</td>\n",
       "    </tr>\n",
       "    <tr>\n",
       "      <th>2</th>\n",
       "      <td>Country-Series</td>\n",
       "      <td>Angola (AGO)</td>\n",
       "      <td>Foreign direct investment, net inflows in repo...</td>\n",
       "      <td>Data on Foreign Direct Investment are based on...</td>\n",
       "    </tr>\n",
       "    <tr>\n",
       "      <th>3</th>\n",
       "      <td>Country-Series</td>\n",
       "      <td>Angola (AGO)</td>\n",
       "      <td>External debt stocks, total (DOD, current US$)...</td>\n",
       "      <td>Long-term public and publicly guaranteed debt ...</td>\n",
       "    </tr>\n",
       "    <tr>\n",
       "      <th>4</th>\n",
       "      <td>Country-Series</td>\n",
       "      <td>Albania (ALB)</td>\n",
       "      <td>Foreign direct investment, net inflows in repo...</td>\n",
       "      <td>Data on Foreign Direct Investment are based on...</td>\n",
       "    </tr>\n",
       "  </tbody>\n",
       "</table>\n",
       "</div>"
      ],
      "text/plain": [
       "             Type       Country Code  \\\n",
       "0  Country-Series  Afghanistan (AFG)   \n",
       "1  Country-Series  Afghanistan (AFG)   \n",
       "2  Country-Series       Angola (AGO)   \n",
       "3  Country-Series       Angola (AGO)   \n",
       "4  Country-Series      Albania (ALB)   \n",
       "\n",
       "                                         Series Code  \\\n",
       "0  Foreign direct investment, net inflows in repo...   \n",
       "1  External debt stocks, total (DOD, current US$)...   \n",
       "2  Foreign direct investment, net inflows in repo...   \n",
       "3  External debt stocks, total (DOD, current US$)...   \n",
       "4  Foreign direct investment, net inflows in repo...   \n",
       "\n",
       "                                         Description  \n",
       "0  Data on Foreign Direct Investment are based on...  \n",
       "1  Long-term public and publicly guaranteed, long...  \n",
       "2  Data on Foreign Direct Investment are based on...  \n",
       "3  Long-term public and publicly guaranteed debt ...  \n",
       "4  Data on Foreign Direct Investment are based on...  "
      ]
     },
     "execution_count": 4,
     "metadata": {},
     "output_type": "execute_result"
    }
   ],
   "source": [
    "import pandas as pd\n",
    "\n",
    "data = pd.read_csv(r'C:\\users\\David\\downloads\\IDS_Country-SeriesMetaData.csv', encoding='ISO 8859-1')\n",
    "\n",
    "data.head()"
   ]
  },
  {
   "cell_type": "code",
   "execution_count": 5,
   "id": "0a155897",
   "metadata": {},
   "outputs": [
    {
     "data": {
      "text/plain": [
       "India (IND)                                            5\n",
       "Argentina (ARG)                                        3\n",
       "Philippines (PHL)                                      3\n",
       "Tanzania (TZA)                                         3\n",
       "Samoa (WSM)                                            3\n",
       "                                                      ..\n",
       "South Asia (SAS)                                       1\n",
       "Sub-Saharan Africa (excluding high income) (SSA)       1\n",
       "East Asia & Pacific (excluding high income) (EAP)      1\n",
       "Low income (LIC)                                       1\n",
       "Europe & Central Asia (excluding high income) (ECA)    1\n",
       "Name: Country Code, Length: 132, dtype: int64"
      ]
     },
     "execution_count": 5,
     "metadata": {},
     "output_type": "execute_result"
    }
   ],
   "source": [
    "data['Country Code'].value_counts()"
   ]
  },
  {
   "cell_type": "code",
   "execution_count": 6,
   "id": "50e9182e",
   "metadata": {},
   "outputs": [
    {
     "data": {
      "text/plain": [
       "Index(['Type', 'Country Code', 'Series Code', 'Description'], dtype='object')"
      ]
     },
     "execution_count": 6,
     "metadata": {},
     "output_type": "execute_result"
    }
   ],
   "source": [
    "data.columns"
   ]
  },
  {
   "cell_type": "code",
   "execution_count": 7,
   "id": "2260357c",
   "metadata": {},
   "outputs": [
    {
     "data": {
      "text/plain": [
       "Type            0\n",
       "Country Code    0\n",
       "Series Code     0\n",
       "Description     0\n",
       "dtype: int64"
      ]
     },
     "execution_count": 7,
     "metadata": {},
     "output_type": "execute_result"
    }
   ],
   "source": [
    "data.isna().sum()"
   ]
  },
  {
   "cell_type": "code",
   "execution_count": 8,
   "id": "51cd99e6",
   "metadata": {},
   "outputs": [
    {
     "data": {
      "text/plain": [
       "<bound method DataFrame.info of                Type        Country Code  \\\n",
       "0    Country-Series   Afghanistan (AFG)   \n",
       "1    Country-Series   Afghanistan (AFG)   \n",
       "2    Country-Series        Angola (AGO)   \n",
       "3    Country-Series        Angola (AGO)   \n",
       "4    Country-Series       Albania (ALB)   \n",
       "..              ...                 ...   \n",
       "255  Country-Series  South Africa (ZAF)   \n",
       "256  Country-Series        Zambia (ZMB)   \n",
       "257  Country-Series        Zambia (ZMB)   \n",
       "258  Country-Series      Zimbabwe (ZWE)   \n",
       "259  Country-Series      Zimbabwe (ZWE)   \n",
       "\n",
       "                                           Series Code  \\\n",
       "0    Foreign direct investment, net inflows in repo...   \n",
       "1    External debt stocks, total (DOD, current US$)...   \n",
       "2    Foreign direct investment, net inflows in repo...   \n",
       "3    External debt stocks, total (DOD, current US$)...   \n",
       "4    Foreign direct investment, net inflows in repo...   \n",
       "..                                                 ...   \n",
       "255  External debt stocks, total (DOD, current US$)...   \n",
       "256  Foreign direct investment, net inflows in repo...   \n",
       "257  External debt stocks, total (DOD, current US$)...   \n",
       "258  Foreign direct investment, net inflows in repo...   \n",
       "259  External debt stocks, total (DOD, current US$)...   \n",
       "\n",
       "                                           Description  \n",
       "0    Data on Foreign Direct Investment are based on...  \n",
       "1    Long-term public and publicly guaranteed, long...  \n",
       "2    Data on Foreign Direct Investment are based on...  \n",
       "3    Long-term public and publicly guaranteed debt ...  \n",
       "4    Data on Foreign Direct Investment are based on...  \n",
       "..                                                 ...  \n",
       "255  Long-term public and publicly guaranteed and l...  \n",
       "256  Data on Foreign Direct Investment are based on...  \n",
       "257  Long-term public and publicly guaranteed and l...  \n",
       "258  Data on Foreign Direct Investment are based on...  \n",
       "259  Long-term public and publicly guaranteed and l...  \n",
       "\n",
       "[260 rows x 4 columns]>"
      ]
     },
     "execution_count": 8,
     "metadata": {},
     "output_type": "execute_result"
    }
   ],
   "source": [
    "data.info"
   ]
  }
 ],
 "metadata": {
  "kernelspec": {
   "display_name": "Python 3 (ipykernel)",
   "language": "python",
   "name": "python3"
  },
  "language_info": {
   "codemirror_mode": {
    "name": "ipython",
    "version": 3
   },
   "file_extension": ".py",
   "mimetype": "text/x-python",
   "name": "python",
   "nbconvert_exporter": "python",
   "pygments_lexer": "ipython3",
   "version": "3.9.13"
  }
 },
 "nbformat": 4,
 "nbformat_minor": 5
}
