{
 "cells": [
  {
   "cell_type": "markdown",
   "id": "57948b0e",
   "metadata": {},
   "source": [
    "# Looking For Trends In Movie Choices\n",
    "\n",
    "## Project Overview\n",
    "\n",
    "In this project we'll be analyzing a movie dataset made by the user *Rounak Banik* off of [Kaggle](https://www.kaggle.com/datasets/rounakbanik/the-movies-dataset). The goal is to look for specific trends that the most popular movies show.\n",
    "\n",
    "TMDB\n",
    "\n",
    "Here is the data dictionary:\n",
    "\n",
    "-`adult`: Indicates if the movie is X-rated <br>\n",
    "-`belongs_to_collection`: Stringified dictionary that provides information on the movie series the particular film belongs to. <br>\n",
    "-`budget`: Cost to make the movie in USD <br>\n",
    "-`genres`: Stringified list of dictionaries that list out all the genres associated with the movie <br>\n",
    "-`homepage`: Homepage of the movie <br>\n",
    "-`id`: ID of the movie <br>\n",
    "-`imdb_id`: IMDB assigned ID of the movie <br>\n",
    "-`original_language`: Native language of the movie <br>\n",
    "-`original_title`: Original title of the movie <br>\n",
    "-`overview`: Description of the movie <br>\n",
    "-`poster_path`: URL of the poster image <br>\n",
    "-`popularity`: How popular the movie was <br>\n",
    "-`producation_companies`: Companies who produced the movie <br>\n",
    "-`producation_countries`: Countries where the movie was produced <br>\n",
    "-`release_date`: Date movie was released <br>\n",
    "-`revenue`: How much the movie made <br>\n",
    "-`runtime`: How long the movie was <br>\n",
    "-`spoken_languages`: Spoken languages in the movie <br>\n",
    "-`status`: Status of the movie (Released, To Be Released, Announced, etc.) <br>\n",
    "-`tagline`: Tagline of the movie <br>\n",
    "-`title`: Official title of the movie <br>\n",
    "-`video`: Indicates if there is a video present of the movie with TMDB <br>\n",
    "-`vote_average`: Average rating of the movie <br>\n",
    "-`vote_count`: Number of votes by users <br>\n",
    "\n",
    "Let's import our libraries now.\n",
    "\n",
    "## Importing Libraries"
   ]
  },
  {
   "cell_type": "code",
   "execution_count": 1,
   "id": "c5e88972",
   "metadata": {},
   "outputs": [],
   "source": [
    "import numpy as np\n",
    "import pandas as pd\n",
    "import matplotlib.pyplot as plt\n",
    "import seaborn as sns\n",
    "import tabulate as tabulate\n",
    "%matplotlib inline\n",
    "\n",
    "movies = pd.read_csv(r'C:\\Users\\david\\Downloads\\archive\\movies_metadata.csv', low_memory=False)"
   ]
  },
  {
   "cell_type": "markdown",
   "id": "9ffcedc1",
   "metadata": {},
   "source": [
    "## Intial Cleaning \n",
    "\n",
    "The first thing we're going to do is remove the columns that have a high percentage of NaN entries or columns that seem redundant or inapplicable to our analysis. Let"
   ]
  },
  {
   "cell_type": "code",
   "execution_count": 2,
   "id": "d6af4e7f",
   "metadata": {},
   "outputs": [
    {
     "name": "stdout",
     "output_type": "stream",
     "text": [
      "(45466, 24)\n"
     ]
    },
    {
     "data": {
      "text/plain": [
       "Index(['adult', 'belongs_to_collection', 'budget', 'genres', 'homepage', 'id',\n",
       "       'imdb_id', 'original_language', 'original_title', 'overview',\n",
       "       'popularity', 'poster_path', 'production_companies',\n",
       "       'production_countries', 'release_date', 'revenue', 'runtime',\n",
       "       'spoken_languages', 'status', 'tagline', 'title', 'video',\n",
       "       'vote_average', 'vote_count'],\n",
       "      dtype='object')"
      ]
     },
     "execution_count": 2,
     "metadata": {},
     "output_type": "execute_result"
    }
   ],
   "source": [
    "print(movies.shape)\n",
    "movies.columns"
   ]
  },
  {
   "cell_type": "code",
   "execution_count": 12,
   "id": "5ae4a119",
   "metadata": {},
   "outputs": [
    {
     "data": {
      "text/plain": [
       "0    {'id': 10194, 'name': 'Toy Story Collection', ...\n",
       "1                                                  NaN\n",
       "2    {'id': 119050, 'name': 'Grumpy Old Men Collect...\n",
       "3                                                  NaN\n",
       "4    {'id': 96871, 'name': 'Father of the Bride Col...\n",
       "Name: belongs_to_collection, dtype: object"
      ]
     },
     "execution_count": 12,
     "metadata": {},
     "output_type": "execute_result"
    }
   ],
   "source": [
    "movies['belongs_to_collection'].head(5)"
   ]
  },
  {
   "cell_type": "code",
   "execution_count": 4,
   "id": "1eca3cdf",
   "metadata": {},
   "outputs": [
    {
     "data": {
      "text/html": [
       "<div>\n",
       "<style scoped>\n",
       "    .dataframe tbody tr th:only-of-type {\n",
       "        vertical-align: middle;\n",
       "    }\n",
       "\n",
       "    .dataframe tbody tr th {\n",
       "        vertical-align: top;\n",
       "    }\n",
       "\n",
       "    .dataframe thead th {\n",
       "        text-align: right;\n",
       "    }\n",
       "</style>\n",
       "<table border=\"1\" class=\"dataframe\">\n",
       "  <thead>\n",
       "    <tr style=\"text-align: right;\">\n",
       "      <th></th>\n",
       "      <th>budget</th>\n",
       "      <th>id</th>\n",
       "      <th>original_language</th>\n",
       "      <th>popularity</th>\n",
       "      <th>release_date</th>\n",
       "      <th>revenue</th>\n",
       "      <th>runtime</th>\n",
       "      <th>status</th>\n",
       "      <th>title</th>\n",
       "      <th>vote_average</th>\n",
       "      <th>vote_count</th>\n",
       "    </tr>\n",
       "  </thead>\n",
       "  <tbody>\n",
       "    <tr>\n",
       "      <th>0</th>\n",
       "      <td>30000000</td>\n",
       "      <td>862</td>\n",
       "      <td>en</td>\n",
       "      <td>21.946943</td>\n",
       "      <td>1995-10-30</td>\n",
       "      <td>373554033.0</td>\n",
       "      <td>81.0</td>\n",
       "      <td>Released</td>\n",
       "      <td>Toy Story</td>\n",
       "      <td>7.7</td>\n",
       "      <td>5415.0</td>\n",
       "    </tr>\n",
       "    <tr>\n",
       "      <th>1</th>\n",
       "      <td>65000000</td>\n",
       "      <td>8844</td>\n",
       "      <td>en</td>\n",
       "      <td>17.015539</td>\n",
       "      <td>1995-12-15</td>\n",
       "      <td>262797249.0</td>\n",
       "      <td>104.0</td>\n",
       "      <td>Released</td>\n",
       "      <td>Jumanji</td>\n",
       "      <td>6.9</td>\n",
       "      <td>2413.0</td>\n",
       "    </tr>\n",
       "    <tr>\n",
       "      <th>2</th>\n",
       "      <td>0</td>\n",
       "      <td>15602</td>\n",
       "      <td>en</td>\n",
       "      <td>11.7129</td>\n",
       "      <td>1995-12-22</td>\n",
       "      <td>0.0</td>\n",
       "      <td>101.0</td>\n",
       "      <td>Released</td>\n",
       "      <td>Grumpier Old Men</td>\n",
       "      <td>6.5</td>\n",
       "      <td>92.0</td>\n",
       "    </tr>\n",
       "    <tr>\n",
       "      <th>3</th>\n",
       "      <td>16000000</td>\n",
       "      <td>31357</td>\n",
       "      <td>en</td>\n",
       "      <td>3.859495</td>\n",
       "      <td>1995-12-22</td>\n",
       "      <td>81452156.0</td>\n",
       "      <td>127.0</td>\n",
       "      <td>Released</td>\n",
       "      <td>Waiting to Exhale</td>\n",
       "      <td>6.1</td>\n",
       "      <td>34.0</td>\n",
       "    </tr>\n",
       "    <tr>\n",
       "      <th>4</th>\n",
       "      <td>0</td>\n",
       "      <td>11862</td>\n",
       "      <td>en</td>\n",
       "      <td>8.387519</td>\n",
       "      <td>1995-02-10</td>\n",
       "      <td>76578911.0</td>\n",
       "      <td>106.0</td>\n",
       "      <td>Released</td>\n",
       "      <td>Father of the Bride Part II</td>\n",
       "      <td>5.7</td>\n",
       "      <td>173.0</td>\n",
       "    </tr>\n",
       "    <tr>\n",
       "      <th>...</th>\n",
       "      <td>...</td>\n",
       "      <td>...</td>\n",
       "      <td>...</td>\n",
       "      <td>...</td>\n",
       "      <td>...</td>\n",
       "      <td>...</td>\n",
       "      <td>...</td>\n",
       "      <td>...</td>\n",
       "      <td>...</td>\n",
       "      <td>...</td>\n",
       "      <td>...</td>\n",
       "    </tr>\n",
       "    <tr>\n",
       "      <th>45461</th>\n",
       "      <td>0</td>\n",
       "      <td>439050</td>\n",
       "      <td>fa</td>\n",
       "      <td>0.072051</td>\n",
       "      <td>NaN</td>\n",
       "      <td>0.0</td>\n",
       "      <td>90.0</td>\n",
       "      <td>Released</td>\n",
       "      <td>Subdue</td>\n",
       "      <td>4.0</td>\n",
       "      <td>1.0</td>\n",
       "    </tr>\n",
       "    <tr>\n",
       "      <th>45462</th>\n",
       "      <td>0</td>\n",
       "      <td>111109</td>\n",
       "      <td>tl</td>\n",
       "      <td>0.178241</td>\n",
       "      <td>2011-11-17</td>\n",
       "      <td>0.0</td>\n",
       "      <td>360.0</td>\n",
       "      <td>Released</td>\n",
       "      <td>Century of Birthing</td>\n",
       "      <td>9.0</td>\n",
       "      <td>3.0</td>\n",
       "    </tr>\n",
       "    <tr>\n",
       "      <th>45463</th>\n",
       "      <td>0</td>\n",
       "      <td>67758</td>\n",
       "      <td>en</td>\n",
       "      <td>0.903007</td>\n",
       "      <td>2003-08-01</td>\n",
       "      <td>0.0</td>\n",
       "      <td>90.0</td>\n",
       "      <td>Released</td>\n",
       "      <td>Betrayal</td>\n",
       "      <td>3.8</td>\n",
       "      <td>6.0</td>\n",
       "    </tr>\n",
       "    <tr>\n",
       "      <th>45464</th>\n",
       "      <td>0</td>\n",
       "      <td>227506</td>\n",
       "      <td>en</td>\n",
       "      <td>0.003503</td>\n",
       "      <td>1917-10-21</td>\n",
       "      <td>0.0</td>\n",
       "      <td>87.0</td>\n",
       "      <td>Released</td>\n",
       "      <td>Satan Triumphant</td>\n",
       "      <td>0.0</td>\n",
       "      <td>0.0</td>\n",
       "    </tr>\n",
       "    <tr>\n",
       "      <th>45465</th>\n",
       "      <td>0</td>\n",
       "      <td>461257</td>\n",
       "      <td>en</td>\n",
       "      <td>0.163015</td>\n",
       "      <td>2017-06-09</td>\n",
       "      <td>0.0</td>\n",
       "      <td>75.0</td>\n",
       "      <td>Released</td>\n",
       "      <td>Queerama</td>\n",
       "      <td>0.0</td>\n",
       "      <td>0.0</td>\n",
       "    </tr>\n",
       "  </tbody>\n",
       "</table>\n",
       "<p>45466 rows × 11 columns</p>\n",
       "</div>"
      ],
      "text/plain": [
       "         budget      id original_language popularity release_date  \\\n",
       "0      30000000     862                en  21.946943   1995-10-30   \n",
       "1      65000000    8844                en  17.015539   1995-12-15   \n",
       "2             0   15602                en    11.7129   1995-12-22   \n",
       "3      16000000   31357                en   3.859495   1995-12-22   \n",
       "4             0   11862                en   8.387519   1995-02-10   \n",
       "...         ...     ...               ...        ...          ...   \n",
       "45461         0  439050                fa   0.072051          NaN   \n",
       "45462         0  111109                tl   0.178241   2011-11-17   \n",
       "45463         0   67758                en   0.903007   2003-08-01   \n",
       "45464         0  227506                en   0.003503   1917-10-21   \n",
       "45465         0  461257                en   0.163015   2017-06-09   \n",
       "\n",
       "           revenue  runtime    status                        title  \\\n",
       "0      373554033.0     81.0  Released                    Toy Story   \n",
       "1      262797249.0    104.0  Released                      Jumanji   \n",
       "2              0.0    101.0  Released             Grumpier Old Men   \n",
       "3       81452156.0    127.0  Released            Waiting to Exhale   \n",
       "4       76578911.0    106.0  Released  Father of the Bride Part II   \n",
       "...            ...      ...       ...                          ...   \n",
       "45461          0.0     90.0  Released                       Subdue   \n",
       "45462          0.0    360.0  Released          Century of Birthing   \n",
       "45463          0.0     90.0  Released                     Betrayal   \n",
       "45464          0.0     87.0  Released             Satan Triumphant   \n",
       "45465          0.0     75.0  Released                     Queerama   \n",
       "\n",
       "       vote_average  vote_count  \n",
       "0               7.7      5415.0  \n",
       "1               6.9      2413.0  \n",
       "2               6.5        92.0  \n",
       "3               6.1        34.0  \n",
       "4               5.7       173.0  \n",
       "...             ...         ...  \n",
       "45461           4.0         1.0  \n",
       "45462           9.0         3.0  \n",
       "45463           3.8         6.0  \n",
       "45464           0.0         0.0  \n",
       "45465           0.0         0.0  \n",
       "\n",
       "[45466 rows x 11 columns]"
      ]
     },
     "execution_count": 4,
     "metadata": {},
     "output_type": "execute_result"
    }
   ],
   "source": [
    "movies.drop(columns=['adult', 'belongs_to_collection', 'genres', 'homepage',\n",
    "       'imdb_id', 'original_title', 'overview',\n",
    "       'poster_path', 'spoken_languages', 'tagline', 'video', 'production_companies', 'production_countries'])"
   ]
  },
  {
   "cell_type": "code",
   "execution_count": 16,
   "id": "f31e2a8a",
   "metadata": {},
   "outputs": [
    {
     "data": {
      "text/plain": [
       "Released           45014\n",
       "Rumored              230\n",
       "Post Production       98\n",
       "In Production         20\n",
       "Planned               15\n",
       "Canceled               2\n",
       "Name: status, dtype: int64"
      ]
     },
     "execution_count": 16,
     "metadata": {},
     "output_type": "execute_result"
    }
   ],
   "source": [
    "movies['status'].value_counts()"
   ]
  },
  {
   "cell_type": "code",
   "execution_count": 30,
   "id": "fdcdf3c7",
   "metadata": {},
   "outputs": [
    {
     "name": "stdout",
     "output_type": "stream",
     "text": [
      "0                          Toy Story\n",
      "1                            Jumanji\n",
      "2                   Grumpier Old Men\n",
      "3                  Waiting to Exhale\n",
      "4        Father of the Bride Part II\n",
      "                    ...             \n",
      "45461                         Subdue\n",
      "45462            Century of Birthing\n",
      "45463                       Betrayal\n",
      "45464               Satan Triumphant\n",
      "45465                       Queerama\n",
      "Name: title, Length: 45466, dtype: object\n",
      "0                          Toy Story\n",
      "1                            Jumanji\n",
      "2                   Grumpier Old Men\n",
      "3                  Waiting to Exhale\n",
      "4        Father of the Bride Part II\n",
      "                    ...             \n",
      "45461                         Subdue\n",
      "45462            Century of Birthing\n",
      "45463                       Betrayal\n",
      "45464               Satan Triumphant\n",
      "45465                       Queerama\n",
      "Name: title, Length: 45466, dtype: object\n"
     ]
    }
   ],
   "source": [
    "for element in movies['status']:\n",
    "    if element == 'Canceled':\n",
    "        print(movies['title'])\n",
    "\n",
    "canceled_movies = movies['title'].str.contains('Canceled')\n",
    "canceled_movies.value_counts()"
   ]
  },
  {
   "cell_type": "code",
   "execution_count": 31,
   "id": "9eb54787",
   "metadata": {},
   "outputs": [
    {
     "data": {
      "text/plain": [
       "pandas.core.series.Series"
      ]
     },
     "execution_count": 31,
     "metadata": {},
     "output_type": "execute_result"
    }
   ],
   "source": [
    "type(movies['belongs_to_collection'])"
   ]
  }
 ],
 "metadata": {
  "kernelspec": {
   "display_name": "Python 3 (ipykernel)",
   "language": "python",
   "name": "python3"
  },
  "language_info": {
   "codemirror_mode": {
    "name": "ipython",
    "version": 3
   },
   "file_extension": ".py",
   "mimetype": "text/x-python",
   "name": "python",
   "nbconvert_exporter": "python",
   "pygments_lexer": "ipython3",
   "version": "3.9.13"
  }
 },
 "nbformat": 4,
 "nbformat_minor": 5
}
