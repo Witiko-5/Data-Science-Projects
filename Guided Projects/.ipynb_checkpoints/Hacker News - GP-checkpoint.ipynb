{
 "cells": [
  {
   "cell_type": "markdown",
   "id": "751faeed",
   "metadata": {},
   "source": [
    "![image](https://uploads-ssl.webflow.com/5e5e26b57a149fc28773c703/5eaf3dc2f728bb4e333a1546_hacker-news-logo.jpeg)"
   ]
  },
  {
   "cell_type": "markdown",
   "id": "021fb3a9",
   "metadata": {},
   "source": [
    "## Analyzing Data from Hacker News \n",
    "\n",
    "In this project I will be analyzing data from posts titles that start with \"Ask HN\" and \"Show HN.\" The former has to do with asking the Hacker News' community about a topic and the latter has to do with showing something off. The answer I am attempting to answer through observable patterns with data is: \"What post type and time is the best time to post in order to recieve comments?\"\n",
    "\n",
    "The dataset I will be using can be found [here](https://www.kaggle.com/datasets/hacker-news/hacker-news-posts)."
   ]
  },
  {
   "cell_type": "code",
   "execution_count": 1,
   "id": "fa1d94ae",
   "metadata": {},
   "outputs": [
    {
     "name": "stdout",
     "output_type": "stream",
     "text": [
      "['id', 'title', 'url', 'num_points', 'num_comments', 'author', 'created_at']\n",
      "Number of rows in hnp_data: 293119\n"
     ]
    }
   ],
   "source": [
    "from csv import reader #import reader function from csv module\n",
    "import datetime as dt #import datetime with alias dt\n",
    "\n",
    "opened_file = open(r'C:\\Users\\david\\Desktop\\HN.csv', encoding=\"utf-8\")\n",
    "read_file = reader(opened_file)\n",
    "list_file = list(read_file)\n",
    "hnp_header = list_file[0]\n",
    "hnp_data = list_file[1:]\n",
    "\n",
    "print(hnp_header) #print the header of the dataset\n",
    "print(\"Number of rows in hnp_data:\", len(hnp_data))"
   ]
  },
  {
   "cell_type": "markdown",
   "id": "44b79101",
   "metadata": {},
   "source": [
    "---\n",
    "\n",
    "Below I will loop through the dataset. Every title that starts with \"Ask HN\" will be added to `ask_posts` and titles that start with \"Show HN\" will be added to `show_posts`. Every other title that does not meet the above critera will be added to `other_posts`."
   ]
  },
  {
   "cell_type": "code",
   "execution_count": 2,
   "id": "b547ecf3",
   "metadata": {},
   "outputs": [
    {
     "name": "stdout",
     "output_type": "stream",
     "text": [
      "Number of ask posts: 9139\n",
      "Number of show posts: 10158\n",
      "Number of every other kind of post: 273822\n"
     ]
    }
   ],
   "source": [
    "ask_posts = [] #code block sorts posts that start with ask hn and show hn into respective lists\n",
    "show_posts = []\n",
    "other_posts = []\n",
    "\n",
    "for row in hnp_data:\n",
    "    title = row[1].lower() #utilizing .lower function to read strings as lowercase values\n",
    "    if title.startswith(\"ask hn\"):\n",
    "        ask_posts.append(row)\n",
    "    elif title.startswith(\"show hn\"): #using .startwith parameter to check if the title starts with specificed string\n",
    "        show_posts.append(row)\n",
    "    else:\n",
    "        other_posts.append(row)\n",
    "        \n",
    "print('Number of ask posts:', len(ask_posts))\n",
    "print('Number of show posts:', len(show_posts))\n",
    "print('Number of every other kind of post:', len(other_posts))"
   ]
  },
  {
   "cell_type": "markdown",
   "id": "c13409f3",
   "metadata": {},
   "source": [
    "---\n",
    "\n",
    "Now I will count the total number of comments for both post types, where `total_ask_comments` will correlate to the total number of comments recieved for ask posts and `total_show_comments` will correlate to the total number of comments recieved for show posts.\n",
    "    Afterwards, I will calculate the average number of comments for each post."
   ]
  },
  {
   "cell_type": "code",
   "execution_count": 3,
   "id": "cefcff4e",
   "metadata": {
    "scrolled": true
   },
   "outputs": [
    {
     "name": "stdout",
     "output_type": "stream",
     "text": [
      "Total number of comments for ask posts: 94986\n",
      "Average number of comments for ask posts: 10.393478498741656\n"
     ]
    }
   ],
   "source": [
    "total_ask_comments = 0 #find total number of comments for ask posts\n",
    "for row in ask_posts:\n",
    "    total_ask_comments += int(row[4])\n",
    "    \n",
    "avg_ask_comments = total_ask_comments / len(ask_posts) #Calculate average number of comments for ask posts\n",
    "print(\"Total number of comments for ask posts:\", total_ask_comments)\n",
    "print(\"Average number of comments for ask posts:\", avg_ask_comments)"
   ]
  },
  {
   "cell_type": "code",
   "execution_count": 4,
   "id": "8b180f19",
   "metadata": {
    "scrolled": true
   },
   "outputs": [
    {
     "name": "stdout",
     "output_type": "stream",
     "text": [
      "Total number of comments for show posts: 49633\n",
      "Average number of comments for show posts: 4.886099625910612\n"
     ]
    }
   ],
   "source": [
    "total_show_comments = 0 #fnd total number of comments for \"Show HN\" posts\n",
    "for row in show_posts:\n",
    "    total_show_comments += int(row[4])\n",
    "    \n",
    "avg_show_comments = total_show_comments / len(show_posts) #Calculate average number of comments for \"Show HN\" posts\n",
    "print(\"Total number of comments for show posts:\", total_show_comments)\n",
    "print(\"Average number of comments for show posts:\", avg_show_comments)"
   ]
  },
  {
   "cell_type": "markdown",
   "id": "b6973367",
   "metadata": {},
   "source": [
    "As shown above, ask posts recieve more comments on average. Therefore I will be focusing my analysis on these posts from this point forward in order to best answer the question stated in the introduction.\n",
    "\n",
    "---\n",
    "\n",
    "Below I will be calculating the number of ask posts created every hour of the day AND calculating the average number of comments ask posts recieve per hour."
   ]
  },
  {
   "cell_type": "code",
   "execution_count": 5,
   "id": "15bb6878",
   "metadata": {},
   "outputs": [
    {
     "name": "stdout",
     "output_type": "stream",
     "text": [
      "Example of the data recorded for every row:\n",
      "[['9/26/2016 2:53', 7], ['9/26/2016 1:17', 3], ['9/25/2016 22:57', 0]]\n"
     ]
    }
   ],
   "source": [
    "result_list = [] #append every row for created_at column and ask_posts column in a list\n",
    "\n",
    "for row in ask_posts:\n",
    "    result_list.append([row[6], int(row[4])])\n",
    "    \n",
    "print('Example of the data recorded for every row:')\n",
    "print(result_list[:3])"
   ]
  },
  {
   "cell_type": "code",
   "execution_count": 6,
   "id": "28bc61f5",
   "metadata": {},
   "outputs": [
    {
     "name": "stdout",
     "output_type": "stream",
     "text": [
      "Average number of comments for ask posts per hour:\n"
     ]
    },
    {
     "data": {
      "text/plain": [
       "{'02': 2996,\n",
       " '01': 2089,\n",
       " '22': 3372,\n",
       " '21': 4500,\n",
       " '19': 3954,\n",
       " '17': 5547,\n",
       " '15': 18525,\n",
       " '14': 4972,\n",
       " '13': 7245,\n",
       " '11': 2797,\n",
       " '10': 3013,\n",
       " '09': 1477,\n",
       " '07': 1585,\n",
       " '03': 2154,\n",
       " '23': 2297,\n",
       " '20': 4462,\n",
       " '16': 4466,\n",
       " '08': 2362,\n",
       " '00': 2277,\n",
       " '18': 4877,\n",
       " '12': 4234,\n",
       " '04': 2360,\n",
       " '06': 1587,\n",
       " '05': 1838}"
      ]
     },
     "execution_count": 6,
     "metadata": {},
     "output_type": "execute_result"
    }
   ],
   "source": [
    "comments_per_hour = {} #contains the corresponding number of comments ask posts created at each hour received\n",
    "posts_per_hour = {} #contains the number of ask posts created during each hour of the day\n",
    "\n",
    "for row in result_list:\n",
    "    date_str = row[0]\n",
    "    num_comments = row[1]\n",
    "    dt_object = dt.datetime.strptime(date_str, \"%m/%d/%Y %H:%M\") #parase string into date format\n",
    "    hour = dt_object.strftime(\"%H\")\n",
    "    \n",
    "    if hour in posts_per_hour:\n",
    "        comments_per_hour[hour] += num_comments\n",
    "        posts_per_hour[hour] += 1\n",
    "    else: \n",
    "        comments_per_hour[hour] = num_comments\n",
    "        posts_per_hour[hour] = 1\n",
    "\n",
    "print(\"Average number of comments for ask posts per hour:\")\n",
    "comments_per_hour #average number of comments for ask posts per hour"
   ]
  },
  {
   "cell_type": "code",
   "execution_count": 7,
   "id": "08fff48b",
   "metadata": {},
   "outputs": [
    {
     "name": "stdout",
     "output_type": "stream",
     "text": [
      "Average number of comments for ask posts per hour:\n"
     ]
    },
    {
     "data": {
      "text/plain": [
       "[['02', 11.137546468401487],\n",
       " ['01', 7.407801418439717],\n",
       " ['22', 8.804177545691905],\n",
       " ['21', 8.687258687258687],\n",
       " ['19', 7.163043478260869],\n",
       " ['17', 9.449744463373083],\n",
       " ['15', 28.676470588235293],\n",
       " ['14', 9.692007797270955],\n",
       " ['13', 16.31756756756757],\n",
       " ['11', 8.96474358974359],\n",
       " ['10', 10.684397163120567],\n",
       " ['09', 6.653153153153153],\n",
       " ['07', 7.013274336283186],\n",
       " ['03', 7.948339483394834],\n",
       " ['23', 6.696793002915452],\n",
       " ['20', 8.749019607843136],\n",
       " ['16', 7.713298791018998],\n",
       " ['08', 9.190661478599221],\n",
       " ['00', 7.5647840531561465],\n",
       " ['18', 7.94299674267101],\n",
       " ['12', 12.380116959064328],\n",
       " ['04', 9.7119341563786],\n",
       " ['06', 6.782051282051282],\n",
       " ['05', 8.794258373205741]]"
      ]
     },
     "execution_count": 7,
     "metadata": {},
     "output_type": "execute_result"
    }
   ],
   "source": [
    "#calculate the average number of comments for ask posts per hour\n",
    "avg_per_hour = []\n",
    "\n",
    "for row in comments_per_hour:\n",
    "    avg_per_hour.append([row, comments_per_hour[row] / posts_per_hour[row]])\n",
    "    \n",
    "print('Average number of comments for ask posts per hour:')\n",
    "avg_per_hour"
   ]
  },
  {
   "cell_type": "code",
   "execution_count": 9,
   "id": "b371d7b2",
   "metadata": {},
   "outputs": [
    {
     "data": {
      "text/plain": [
       "[[28.676470588235293, '15'],\n",
       " [16.31756756756757, '13'],\n",
       " [12.380116959064328, '12'],\n",
       " [11.137546468401487, '02'],\n",
       " [10.684397163120567, '10'],\n",
       " [9.7119341563786, '04'],\n",
       " [9.692007797270955, '14'],\n",
       " [9.449744463373083, '17'],\n",
       " [9.190661478599221, '08'],\n",
       " [8.96474358974359, '11'],\n",
       " [8.804177545691905, '22'],\n",
       " [8.794258373205741, '05'],\n",
       " [8.749019607843136, '20'],\n",
       " [8.687258687258687, '21'],\n",
       " [7.948339483394834, '03'],\n",
       " [7.94299674267101, '18'],\n",
       " [7.713298791018998, '16'],\n",
       " [7.5647840531561465, '00'],\n",
       " [7.407801418439717, '01'],\n",
       " [7.163043478260869, '19'],\n",
       " [7.013274336283186, '07'],\n",
       " [6.782051282051282, '06'],\n",
       " [6.696793002915452, '23'],\n",
       " [6.653153153153153, '09']]"
      ]
     },
     "execution_count": 9,
     "metadata": {},
     "output_type": "execute_result"
    }
   ],
   "source": [
    "#swap the rows in avg_per_hour and sort by descending order\n",
    "swap_avg_per_hour = []\n",
    "\n",
    "for row in avg_per_hour:\n",
    "    swap_avg_per_hour.append([row[1], row[0]])\n",
    "    \n",
    "sorted_swap = sorted(swap_avg_per_hour, reverse=True)\n",
    "sorted_swap"
   ]
  },
  {
   "cell_type": "code",
   "execution_count": 10,
   "id": "a6b4dd38",
   "metadata": {},
   "outputs": [
    {
     "name": "stdout",
     "output_type": "stream",
     "text": [
      "Top 5 Hours for 'Ask HN' Comments:\n",
      "15:00: 28.68 average comments per post\n",
      "13:00: 16.32 average comments per post\n",
      "12:00: 12.38 average comments per post\n",
      "02:00: 11.14 average comments per post\n",
      "10:00: 10.68 average comments per post\n"
     ]
    }
   ],
   "source": [
    "print(\"Top 5 Hours for 'Ask HN' Comments:\")\n",
    "for avg, hr in sorted_swap[:5]:\n",
    "    print(\"{}: {:.2f} average comments per post\".format(dt.datetime.strptime(hr, \"%H\").strftime(\"%H:%M\"),avg))"
   ]
  },
  {
   "cell_type": "markdown",
   "id": "7e3a36f4",
   "metadata": {},
   "source": [
    "The time of day which statistically recieves the highest number of comments is 3:00 pm EST (according to the timezone used in the [documentation](https://www.kaggle.com/datasets/hacker-news/hacker-news-posts), or 15:00, with an average of ~38 comments per post. That's more than double the number of comments than the second highest average, which is 2:00 am.\n",
    "\n",
    "In conclusion, I analyzed ask and show posts from Hacker News and determined that in order for one to get the higehst chance of recieving a comment on their post it would have to be of the ask hn category and would have to occur around the time 3:00 pm EST, as our data indicates."
   ]
  }
 ],
 "metadata": {
  "kernelspec": {
   "display_name": "Python 3 (ipykernel)",
   "language": "python",
   "name": "python3"
  },
  "language_info": {
   "codemirror_mode": {
    "name": "ipython",
    "version": 3
   },
   "file_extension": ".py",
   "mimetype": "text/x-python",
   "name": "python",
   "nbconvert_exporter": "python",
   "pygments_lexer": "ipython3",
   "version": "3.9.13"
  }
 },
 "nbformat": 4,
 "nbformat_minor": 5
}
