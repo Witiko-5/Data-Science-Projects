{
 "cells": [
  {
   "cell_type": "markdown",
   "id": "2ba58c33",
   "metadata": {},
   "source": [
    "# Which Star Wars Movie is The Best?\n",
    "\n",
    "![](https://i.pinimg.com/originals/84/da/da/84dada0a5dcfd790700df3dd87897aef.gif)\n",
    "\n",
    "#### Overview:\n",
    "\n",
    "An opinion poll team, [FiveThirtyEight](https://en.wikipedia.org/wiki/FiveThirtyEight), asked the question: **does the rest of America realize that \"The Empire Strikes Back\" is clearly the best of the bunch?** In order to answer this question the team created a survery from SurveyMonkey which recieved 835 respones total, which you can download from [their github repository](https://github.com/fivethirtyeight/data/tree/master/star-wars-survey).\n",
    "\n",
    "With the data we're analyzing there are several columns containing answers to single questions about *Star Wars* movies. Meaning that for some questions the respondent had to check one or more boxes. Because of these the formatting of our data is a bit strange so there is going to be a lot of data restructuring in this project.\n",
    "\n",
    "#### Data Dictionary:\n",
    "\n",
    " - `RespondentID` - An anonymized ID for the respondent (person taking the survey)\n",
    " - `Gender` - the respondent's gender\n",
    " - `Age` - the respondent's age\n",
    " - `Household Income` -  the respondent's income\n",
    " - `Education` - the respondent's education level\n",
    " - `Location (Census Region)` - the respondent's location\n",
    " - `Have you seen any of the 6 films in the Star Wars franchise?` - a Yes or No response\n",
    " - `Do you consider yourself to be a fan of the Star Wars film franchise?` - a Yes or No response\n",
    " \n",
    "#### Summary of Results:\n",
    "\n",
    "- `The Empire Strikes Back (Ep. 5)` is the highest rated and most viewed across the board\n",
    "- `Revenge of the Sith (Ep. 3)` is the leasted rated and leasted viewed across the board\n",
    "- Every Star Wars movie had approximately 70 more males than females watch said film\n",
    "\n",
    "\n",
    "## Read in Data & Explore"
   ]
  },
  {
   "cell_type": "code",
   "execution_count": null,
   "id": "cff24e05",
   "metadata": {},
   "outputs": [],
   "source": [
    "# Import libraries\n",
    "import numpy as np\n",
    "import pandas as pd\n",
    "import matplotlib.pyplot as plt\n",
    "import seaborn as sns\n",
    "%matplotlib inline\n",
    "\n",
    "# Read in data\n",
    "star_wars = pd.read_csv(r'C:\\Users\\david\\Desktop\\Work Data\\Unpackaged\\Star Wars Data.csv', encoding='ISO-8859-1')\n",
    "star_wars\n",
    "\n",
    "# Pandas configuration\n",
    "pd.set_option('display.max_columns', None)\n",
    "\n",
    "star_wars.head()"
   ]
  },
  {
   "cell_type": "code",
   "execution_count": null,
   "id": "f1c49ec1",
   "metadata": {},
   "outputs": [],
   "source": [
    "star_wars.info()"
   ]
  },
  {
   "cell_type": "code",
   "execution_count": null,
   "id": "4ea11fd0",
   "metadata": {},
   "outputs": [],
   "source": [
    "star_wars['Have you seen any of the 6 films in the Star Wars franchise?'].value_counts(dropna=False)"
   ]
  },
  {
   "cell_type": "code",
   "execution_count": null,
   "id": "bec5d887",
   "metadata": {},
   "outputs": [],
   "source": [
    "star_wars['Do you consider yourself to be a fan of the Star Wars film franchise?'].value_counts(dropna=False)"
   ]
  },
  {
   "cell_type": "code",
   "execution_count": null,
   "id": "56c71751",
   "metadata": {},
   "outputs": [],
   "source": [
    "\n",
    "2\n",
    "3\n",
    "4\n",
    "5\n",
    "plt.figure(figsize=(10,6))\n",
    "sns.heatmap(hawks.isna().transpose(),\n",
    "            cmap=\"YlGnBu\",\n",
    "            cbar_kws={'label': 'Missing Data'})"
   ]
  },
  {
   "cell_type": "code",
   "execution_count": null,
   "id": "abdc9946",
   "metadata": {},
   "outputs": [],
   "source": [
    "# Generate heat map of NA values for our dataset\n",
    "sns.heatmap(star_wars[0:14].isna().transpose(),\n",
    "           cmap='YlGnBu',\n",
    "           cbar_kws={'label': 'Missing Data'}).set(title='Missing Data')"
   ]
  },
  {
   "cell_type": "markdown",
   "id": "709e8445",
   "metadata": {},
   "source": [
    "## Cleaning Data: Converting to Boolean l\n",
    "\n",
    "Now we'll convert the strings \"Yes\" and \"No\" for the columns `Have you seen any of the 6 films in the Star Wars franchise?` and `Do you consider yourself to be a fan of the Star Wars film franchise?` into boolean values of `True` and `False`. Doing this will allow us to manipulate the data for analysis later."
   ]
  },
  {
   "cell_type": "code",
   "execution_count": null,
   "id": "f3715b4f",
   "metadata": {},
   "outputs": [],
   "source": [
    "# Change all specificed strings to specificed boolean value\n",
    "yes_no = {'Yes':True, 'No':False}\n",
    "\n",
    "star_wars['Have you seen any of the 6 films in the Star Wars franchise?'] = star_wars['Have you seen any of the 6 films in the Star Wars franchise?'].map(yes_no)\n",
    "star_wars['Do you consider yourself to be a fan of the Star Wars film franchise?'] = star_wars['Do you consider yourself to be a fan of the Star Wars film franchise?'].map(yes_no)\n",
    "\n",
    "# Check our work\n",
    "star_wars[['Have you seen any of the 6 films in the Star Wars franchise?', 'Do you consider yourself to be a fan of the Star Wars film franchise?']]"
   ]
  },
  {
   "cell_type": "markdown",
   "id": "b37be398",
   "metadata": {},
   "source": [
    "## Cleaning Data:  Renaming Columns l\n",
    "\n",
    "Furthermore we're going to rename the columns: `Which of the following Star Wars films have you seen? Please select all that apply.`, `Unnamed: 4`, `Unnamed: 5`, `Unnamed:6`, `Unnamed: 7`, and `Unnamed:8` to something more intuitive. These columns indiciate whether or not the respondent has seen the corresponding movie."
   ]
  },
  {
   "cell_type": "code",
   "execution_count": null,
   "id": "9d0c5b21",
   "metadata": {},
   "outputs": [],
   "source": [
    "# Rename columns\n",
    "star_wars = star_wars.rename(columns={\n",
    "    'Which of the following Star Wars films have you seen? Please select all that apply.':'seen_mov_1',\n",
    "    'Unnamed: 4':'seen_mov_2',\n",
    "    'Unnamed: 5':'seen_mov_3',\n",
    "    'Unnamed: 6':'seen_mov_4',\n",
    "    'Unnamed: 7':'seen_mov_5',\n",
    "    'Unnamed: 8':'seen_mov_6'})\n",
    "\n",
    "# Check to see if it worked\n",
    "print(star_wars.columns[3:9])\n",
    "star_wars.head()"
   ]
  },
  {
   "cell_type": "markdown",
   "id": "00256f1b",
   "metadata": {},
   "source": [
    "## Cleaning Data: Converting to Boolean ll\n",
    "\n",
    "For the columns we just renamed (`seen_ep_1,`, `seen_ep_2`, `seen_ep_3`, `seen_ep_4`, `seen_ep_5`, and `seen_ep_6`) if the respondent indicated that they have watched the movie then the movie name is entered as a string, if they respondent indicated that they have not seen the movie then then a `NaN` value will be present. \n",
    "\n",
    "Just like before we're going to convert the values of the renamed column to boolean values. `True` will indicate that the user has seen the movie and `False` indicates the user has not seen the movie."
   ]
  },
  {
   "cell_type": "code",
   "execution_count": null,
   "id": "c5de1217",
   "metadata": {
    "scrolled": false
   },
   "outputs": [],
   "source": [
    "# Some of the strings in our rows have double spaces, so we'll transform them to single spaces\n",
    "star_wars = star_wars.replace(r'\\s+', ' ', regex=True)\n",
    "\n",
    "# Map string values to boolean values using for loop\n",
    "movies_map = {\n",
    "    'Star Wars: Episode I The Phantom Menace': True,\n",
    "    np.nan:False,\n",
    "    'Star Wars: Episode II Attack of the Clones':True,\n",
    "    'Star Wars: Episode III Revenge of the Sith':True,\n",
    "    'Star Wars: Episode IV A New Hope':True,\n",
    "    'Star Wars: Episode V The Empire Strikes Back':True,\n",
    "    'Star Wars: Episode VI Return of the Jedi':True\n",
    "    }\n",
    "    \n",
    "for col in star_wars.columns[3:9]:\n",
    "    star_wars[col] = star_wars[col].map(movies_map) \n",
    "\n",
    "star_wars.head()"
   ]
  },
  {
   "cell_type": "markdown",
   "id": "92e36ff9",
   "metadata": {},
   "source": [
    "## Cleaning Data: Renaming Columns ll\n",
    "\n",
    "For the columns `Please rank the Star Wars films in order of preference with 1 being your favorite film in the franchise and 6 being your least favorite film.`, `Unnamed: 10`, `Unnamed: 11`, `Unnamed:12`, `Unnamed: 13`, and `Unnamed: 14` we are going to rename these. The first column here indiciates how much a respondent enjoyed the movie, with 1 being the most liked movie and 6 being the least liked movie.\n",
    "\n",
    "After that we're going to convert the values in these columns into floats instead of strings.\n",
    "\n",
    "Lastly we're going to invert the values of the data, so that if a respondeent rated one of the movies as a 2 it will become a 5.0. Meaning that the higher the number the more the respondeent liked the movie. We are doing this because graphical representations of an individuals likeness of something usually follows the convention of a higher number for a greater likeness."
   ]
  },
  {
   "cell_type": "code",
   "execution_count": null,
   "id": "27f256db",
   "metadata": {},
   "outputs": [],
   "source": [
    "dvg = star_wars[star_wars.columns[9:15]].mean().sort_values(ascending=True)"
   ]
  },
  {
   "cell_type": "code",
   "execution_count": null,
   "id": "1b567aeb",
   "metadata": {},
   "outputs": [],
   "source": [
    "# Rename Columns\n",
    "star_wars = star_wars.rename(columns={\n",
    "    'Please rank the Star Wars films in order of preference with 1 being your favorite film in the franchise and 6 being your least favorite film.':'movie_1_score',\n",
    "    'Unnamed: 10':'movie_2_score',\n",
    "    'Unnamed: 11':'movie_3_score',\n",
    "    'Unnamed: 12':'movie_4_score',\n",
    "    'Unnamed: 13':'movie_5_score',\n",
    "    'Unnamed: 14':'movie_6_score'\n",
    "    })\n",
    "\n",
    "# Convert values to floats\n",
    "star_wars[star_wars.columns[9:15]] = star_wars[star_wars.columns[9:15]].astype(float)\n",
    "\n",
    "# Invert values\n",
    "values_map = {\n",
    "    1.0:6.0,\n",
    "    2.0:5.0,\n",
    "    3.0:4.0,\n",
    "    4.0:3.0,\n",
    "    5.0:2.0,\n",
    "    6.0:1.0\n",
    "}\n",
    "\n",
    "for col in star_wars.columns[9:15]:\n",
    "    star_wars[col] = star_wars[col].map(values_map)\n",
    "\n",
    "# Check our work\n",
    "star_wars.head()"
   ]
  },
  {
   "cell_type": "markdown",
   "id": "fbe0d24d",
   "metadata": {},
   "source": [
    "# Analysis\n",
    "\n",
    "Now that our data has been cleaned we can analyze and find connections. \n",
    "\n",
    "##  Average Rating\n",
    "\n",
    "First thing we'll do is find the average rating of each movie."
   ]
  },
  {
   "cell_type": "code",
   "execution_count": null,
   "id": "e574fdfa",
   "metadata": {},
   "outputs": [],
   "source": [
    "star_wars[star_wars.columns[9:15]].mean().sort_values(ascending=False)"
   ]
  },
  {
   "cell_type": "code",
   "execution_count": null,
   "id": "d4a5879b",
   "metadata": {},
   "outputs": [],
   "source": [
    "# Plot average score rating for each episode\n",
    "plt.bar(range(6), star_wars[star_wars.columns[9:15]].mean().sort_values(ascending=False))\n",
    "plt.xticks(ticks=range(6), labels=['The Empire \\n Strikes Back (Ep. 5)', 'Return of \\n the Jedi (Ep. 6)', \n",
    "                                   'A New Hope (Ep. 4)', 'The Phantom \\n Menace (Ep. 1)',\n",
    "                                   'Attack of \\n the Clones (Ep. 2)',\n",
    "                                   'Revenge of \\n the Sith (Ep. 3) ', \n",
    "                                  ], rotation=30)\n",
    "plt.title('Avg. Rating for each Movie')\n",
    "plt.show()"
   ]
  },
  {
   "cell_type": "markdown",
   "id": "ef4167b2",
   "metadata": {},
   "source": [
    "We can see that episode 5, or The Empire Strikes Back, was the highest rated movie. This is most likely due to the nostalgia of it as it was [one of the first](https://www.disney.com.au/movies/a-star-wars-timeline-of-every-movie-in-order-of-release#:~:text=Star%20Wars%3A%20A%20New%20Hope,the%20desert%20planet%20of%20Tatooine.) Star Wars movies produced.\n",
    "\n",
    "## Number of Times Each Movies was Watched"
   ]
  },
  {
   "cell_type": "code",
   "execution_count": null,
   "id": "c534e136",
   "metadata": {},
   "outputs": [],
   "source": [
    "# Total number of times each movie was watched\n",
    "star_wars[star_wars.columns[3:9]].sum().sort_values(ascending=False)"
   ]
  },
  {
   "cell_type": "code",
   "execution_count": null,
   "id": "4a66b0e1",
   "metadata": {},
   "outputs": [],
   "source": [
    "# Plot the total number of times each movie was watched\n",
    "plt.bar(range(6), star_wars[star_wars.columns[3:9]].sum().sort_values(ascending=False))\n",
    "plt.xticks(range(6), labels=['The Empire \\n Strikes Back (Ep. 5)', 'Return of \\n the Jedi (Ep. 6)', \n",
    "                            'The Phantom \\n Menace (Ep. 1)', 'A New Hope (Ep. 4)', \n",
    "                            'Attack of \\n the Clones (Ep. 2)',\n",
    "                            'Revenge of \\n the Sith (Ep. 3) ', \n",
    "                            ], rotation=30)\n",
    "plt.title('How Many Times Each Movie Was Watched')\n",
    "plt.show()"
   ]
  },
  {
   "cell_type": "markdown",
   "id": "476d55fe",
   "metadata": {},
   "source": [
    "We can see that The Empire Strikes Back is the most viewed movie ontop of being the top rated movie. After doing some surface level research it seems to be due to the [emotional investment between the audience and the characters, where the film left the audience on the edge while the next movie was produced](https://the-take.com/read/why-is-empire-strikes-back-considered-the-best-of-the-original-trilogy#:~:text=Empire%20weaves%20a%20profound%20emotional,the%20Star%20Wars%20universe%20right.).\n",
    "\n",
    "## Analyizing Data Based on Gender\n",
    "\n",
    "Let's move into a more selective analysis of our data. Let's look at the average rating and total number of views based off of gender."
   ]
  },
  {
   "cell_type": "code",
   "execution_count": null,
   "id": "263c703e",
   "metadata": {},
   "outputs": [],
   "source": [
    "# Create two dataframes based off of gender\n",
    "males = star_wars[star_wars[\"Gender\"] == \"Male\"]\n",
    "females = star_wars[star_wars[\"Gender\"] == \"Female\"]"
   ]
  },
  {
   "cell_type": "code",
   "execution_count": null,
   "id": "8c8f8dc7",
   "metadata": {},
   "outputs": [],
   "source": [
    "plt.figure(figsize=(16, 8))\n",
    "plt.suptitle('Movie Rating & Views by Gender', fontsize=16)\n",
    "\n",
    "# Avg. Rating Per Movie Graph\n",
    "a = np.arange(len(males.columns[9:15]))\n",
    "y = 0.4\n",
    "\n",
    "plt.subplot(1,2,1)\n",
    "p1 = plt.bar(a, males[males.columns[9:15]].mean().round(2), label='Male', width=y)\n",
    "p2 = plt.bar(a + y, females[females.columns[9:15]].mean().round(2), label='Female', width=y)\n",
    "plt.xticks(range(6), labels=['The Phantom \\n Menace (Ep. 1)', 'Attack of \\n the Clones (Ep. 2)',\n",
    "                            'Revenge of \\n the Sith (Ep. 3) ', 'A New Hope (Ep. 4)',\n",
    "                            'The Empire \\n Strikes Back(Ep. 5)', 'Return of \\n the Jedi (Ep. 6)'\n",
    "                            ], rotation=50)\n",
    "plt.title('Avg. Rating Per Movie')\n",
    "plt.legend()\n",
    "\n",
    "plt.bar_label(p1, label_type='center')\n",
    "plt.bar_label(p2, label_type='center')\n",
    "\n",
    "# Views Per Movie Graph\n",
    "z = np.arange(len(females.columns[3:9]))\n",
    "\n",
    "plt.subplot(1,2,2)\n",
    "p3 = plt.bar(z, males[males.columns[3:9]].sum(), label='Male', width=y)\n",
    "p4 = plt.bar(z + y, females[females.columns[3:9]].sum(), label='Female', width=y)\n",
    "plt.legend()\n",
    "plt.xticks(range(6), labels=['The Phantom \\n Menace (Ep. 1)', 'Attack of \\n the Clones (Ep. 2)',\n",
    "                            'Revenge of \\n the Sith (Ep. 3) ', 'A New Hope (Ep. 4)',\n",
    "                            'The Empire \\n Strikes Back (Ep. 5)', 'Return of \\n the Jedi (Ep. 6)'\n",
    "                            ], rotation=50)\n",
    "plt.title('Views per Movie')\n",
    "\n",
    "plt.bar_label(p3, label_type='center')\n",
    "plt.bar_label(p4, label_type='center')\n",
    "\n",
    "plt.show()"
   ]
  },
  {
   "cell_type": "code",
   "execution_count": null,
   "id": "2be7f2d1",
   "metadata": {},
   "outputs": [],
   "source": [
    "# Avg difference between number of male and female views for the Star Wars films\n",
    "\n",
    "(males[males.columns[3:9]].sum() - females[females.columns[3:9]].sum()).mean()"
   ]
  },
  {
   "cell_type": "markdown",
   "id": "632af8fc",
   "metadata": {},
   "source": [
    "From the above graphs we can see a couple of trends, mainly that males viewed every single movie *more* than females (with the average gap between the two being approximately 70). Yet females rated some of the movies higher than the males such as `The Phantom Menace (Ep. 1)` and `Attack of the Clones (Ep. 2)`. Additionally we can see that both `The Empire Strikes Back (Ep. 5)` and `Return of the Jedi (Ep. 6)` were viewed nearly the same number of times yet `The Empire Strikes Back (Ep. 5)` recieved higher ratings. This could be due to the emotional investment in `The Empire Strikes Back (Ep. 5)` [I touched upon earlier](https://the-take.com/read/why-is-empire-strikes-back-considered-the-best-of-the-original-trilogy#:~:text=Empire%20weaves%20a%20profound%20emotional,the%20Star%20Wars%20universe%20right.).\n",
    "\n",
    "Let's look at the average rating per movie and views per movie based on whether or not the respondeent is a fan of the Star Wars franchise.\n",
    "\n",
    "## Analyizing Data Based on Whether or not Respondeent is a Star Wars Fan"
   ]
  },
  {
   "cell_type": "code",
   "execution_count": null,
   "id": "173b2997",
   "metadata": {},
   "outputs": [],
   "source": [
    "# Create two dataframes based off of whether or not respondeent is a Star Wars fan\n",
    "is_starwars_fan = star_wars[star_wars['Do you consider yourself to be a fan of the Star Wars film franchise?'] == True]\n",
    "isnot_starwars_fan = star_wars[star_wars['Do you consider yourself to be a fan of the Star Wars film franchise?'] == False]"
   ]
  },
  {
   "cell_type": "code",
   "execution_count": null,
   "id": "c5c762b0",
   "metadata": {},
   "outputs": [],
   "source": [
    "plt.figure(figsize=(16, 8))\n",
    "plt.suptitle('Movie Rating & Views by Whether or not Respondeent is a Star Wars Fan', fontsize=16)\n",
    "\n",
    "# Avg. Rating Per Movie Graph\n",
    "a = np.arange(len(males.columns[9:15]))\n",
    "y = 0.4\n",
    "\n",
    "plt.subplot(1,2,1)\n",
    "p1 = plt.bar(a, is_starwars_fan[is_starwars_fan.columns[9:15]].mean().round(2), label='Is Star Wars Fan', width=y)\n",
    "p2 = plt.bar(a + y, isnot_starwars_fan[isnot_starwars_fan.columns[9:15]].mean().round(2), label='Is Not Star Wars Fan', width=y)\n",
    "plt.xticks(range(6), labels=['The Phantom \\n Menace (Ep. 1)', 'Attack of \\n the Clones (Ep. 2)',\n",
    "                            'Revenge of \\n the Sith (Ep. 3) ', 'A New Hope (Ep. 4)',\n",
    "                            'The Empire \\n Strikes Back (Ep. 5)', 'Return of \\n the Jedi (Ep. 6)'\n",
    "                            ], rotation=50)\n",
    "plt.title('Avg. Rating Per Movie')\n",
    "plt.legend()\n",
    "\n",
    "plt.bar_label(p1, label_type='center')\n",
    "plt.bar_label(p2, label_type='center')\n",
    "\n",
    "# Views Per Movie Graph\n",
    "z = np.arange(len(females.columns[3:9]))\n",
    "\n",
    "plt.subplot(1,2,2)\n",
    "p3 = plt.bar(z, is_starwars_fan[is_starwars_fan.columns[3:9]].sum(), label='Is Star Wars Fan', width=y)\n",
    "p4 = plt.bar(z + y, isnot_starwars_fan[isnot_starwars_fan.columns[3:9]].sum(), label='Is Not Star Wars Fan', width=y)\n",
    "plt.legend()\n",
    "plt.xticks(range(6), labels=['The Phantom \\n Menace (Ep. 1)', 'Attack of \\n the Clones (Ep. 2)',\n",
    "                            'Revenge of \\n the Sith (Ep. 3) ', 'A New Hope (Ep. 4)',\n",
    "                            'The Empire \\n Strikes Back (Ep. 5)', 'Return of \\n the Jedi (Ep. 6)'\n",
    "                            ], rotation=50)\n",
    "plt.title('Views per Movie')\n",
    "\n",
    "plt.bar_label(p3, label_type='center')\n",
    "plt.bar_label(p4, label_type='center')\n",
    "\n",
    "plt.show()"
   ]
  },
  {
   "cell_type": "markdown",
   "id": "756449c0",
   "metadata": {},
   "source": [
    "Immediately we can see a very large majority of the respondeents that watched the Star Wars movies were fans which would make senses. You would expect the most people who are watching franchise films to be fans, especially with a franchise as big as Star Wars. \n",
    "\n",
    "An interesting observation is the average rating between fans and non fans for `The Phantom Menace (Ep. 1)` and `Attack of the Clones (Ep. 2)` -- This could be a good area to explore to find out if the movie had some large lore inaccuracy that angered Star Wars fans while the non-Star Wars fans did not notice.\n",
    "\n",
    "Let's look at movie ratings and view based on whether or not the respondeent is a Star Trek Fan.\n",
    "\n",
    "## Analyizing Data Based on Whether or not Respondeent is a Star Trek Fan"
   ]
  },
  {
   "cell_type": "code",
   "execution_count": null,
   "id": "1902dcd4",
   "metadata": {},
   "outputs": [],
   "source": [
    "# Create two dataframes based off of whether or not respondeent is a Star Trek fan\n",
    "is_startrek_fan = star_wars[star_wars['Do you consider yourself to be a fan of the Star Trek franchise?'] == 'Yes']\n",
    "isnot_startrek_fan = star_wars[star_wars['Do you consider yourself to be a fan of the Star Trek franchise?'] == 'No']"
   ]
  },
  {
   "cell_type": "code",
   "execution_count": null,
   "id": "715df132",
   "metadata": {},
   "outputs": [],
   "source": [
    "plt.figure(figsize=(16, 8))\n",
    "plt.suptitle('Movie Rating & Views by Whether or not Respondeent is a Star Trek Fan', fontsize=16)\n",
    "\n",
    "# Avg. Rating Per Movie Graph\n",
    "a = np.arange(len(males.columns[9:15]))\n",
    "y = 0.4\n",
    "\n",
    "plt.subplot(1,2,1)\n",
    "p1 = plt.bar(a, is_startrek_fan[is_startrek_fan.columns[9:15]].mean().round(2), label='Is Star Trek Fan', width=y)\n",
    "p2 = plt.bar(a + y, isnot_starwars_fan[isnot_starwars_fan.columns[9:15]].mean().round(2), label='Is Not Star Trek Fan', width=y)\n",
    "plt.xticks(range(6), labels=['The Phantom \\n Menace (Ep. 1)', 'Attack of \\n the Clones (Ep. 2)',\n",
    "                            'Revenge of \\n the Sith (Ep. 3) ', 'A New Hope (Ep. 4)',\n",
    "                            'The Empire \\n Strikes Back (Ep. 5)', 'Return of \\n the Jedi (Ep. 6)'\n",
    "                            ], rotation=50)\n",
    "plt.title('Avg. Rating Per Movie')\n",
    "plt.legend()\n",
    "\n",
    "plt.bar_label(p1, label_type='center')\n",
    "plt.bar_label(p2, label_type='center')\n",
    "\n",
    "# Views Per Movie Graph\n",
    "z = np.arange(len(females.columns[3:9]))\n",
    "\n",
    "plt.subplot(1,2,2)\n",
    "p3 = plt.bar(z, is_startrek_fan[is_startrek_fan.columns[3:9]].sum(), label='Is Star Trek Fan', width=y)\n",
    "p4 = plt.bar(z + y, isnot_startrek_fan[isnot_startrek_fan.columns[3:9]].sum(), label='Is Not Star Trek Fan', width=y)\n",
    "plt.legend()\n",
    "plt.xticks(range(6), labels=['The Phantom \\n Menace (Ep. 1)', 'Attack of \\n the Clones (Ep. 2)',\n",
    "                            'Revenge of \\n the Sith (Ep. 3) ', 'A New Hope (Ep. 4)',\n",
    "                            'The Empire \\n Strikes Back (Ep. 5)', 'Return of \\n the Jedi (Ep. 6)'\n",
    "                            ], rotation=50)\n",
    "plt.title('Views per Movie')\n",
    "\n",
    "plt.bar_label(p3, label_type='center')\n",
    "plt.bar_label(p4, label_type='center')\n",
    "\n",
    "plt.show()"
   ]
  },
  {
   "cell_type": "markdown",
   "id": "1df0f626",
   "metadata": {},
   "source": [
    "Looking at the movie ratings for Star Trek and Star Wars fans and non-fans shows that `The Phantom Menace (Ep. 1)`, `Attack of the Clones (Ep. 2)`, and `Revenge of the Sith (Ep. 3)` were all rated higher by non-fans of both film franchises where `A New Hope (Ep. 4)`, `The Empire Trikes Back (Ep. 5)`, and `Return of the Jedi (Ep. 6)` were rated higher by both Star Wars and Star Fans.\n",
    "\n",
    "Additionally, we can see that there is a higher view count is associated with Star Trek fans with all six movies compared to non-fans. This is true for not only Star Trek fans but Star Wars fans. Therefore it is safe to say that fans of Star Wars and Star Trek are more likely to watch future Star Wars movies and perhaps even other sci fi films similar to Star Wars and Star Trek.\n",
    "\n",
    "# Conclusion\n",
    "\n",
    "`The Empire Strikes Back (Ep. 5)` is the highest rated **and** most viewed movie across all the groups we analyzed (Gender, Star Wars fans, Star Trek fans) while `Revenge of the Sith (Ep. 3)` is the lowest rated **and** least viewed across all the same groups.\n",
    "\n",
    "Additionally, the first three Star Wars movies are all rated higher by non-Star Wars and non-Star Trek fans, while the last three are all rated higher by fans of both franchises.\n",
    "\n",
    "Lastly, every Star Wars movie was viewed more by males than females, with the average viewing difference being approximately 70. I.e. There were 70 more males that watched each movie compared to females."
   ]
  }
 ],
 "metadata": {
  "kernelspec": {
   "display_name": "Python 3 (ipykernel)",
   "language": "python",
   "name": "python3"
  },
  "language_info": {
   "codemirror_mode": {
    "name": "ipython",
    "version": 3
   },
   "file_extension": ".py",
   "mimetype": "text/x-python",
   "name": "python",
   "nbconvert_exporter": "python",
   "pygments_lexer": "ipython3",
   "version": "3.9.13"
  }
 },
 "nbformat": 4,
 "nbformat_minor": 5
}
